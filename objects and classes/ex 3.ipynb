{
 "cells": [
  {
   "cell_type": "code",
   "execution_count": 3,
   "id": "c3dce2c7",
   "metadata": {},
   "outputs": [
    {
     "name": "stdout",
     "output_type": "stream",
     "text": [
      "18.84955592153876,28.274333882308138\n",
      "point is not in circle\n"
     ]
    }
   ],
   "source": [
    "import math\n",
    "class circle :\n",
    "    def __init__(self, radius, point_x,point_y,center_x, center_y):\n",
    "        self.radius = radius\n",
    "        self.center_x = center_x\n",
    "        self.center_y = center_y\n",
    "        self.point_x = point_x\n",
    "        self.point_y = point_y\n",
    "    def area(self):\n",
    "        area1 = self.radius * math.pi * 2\n",
    "        return area1\n",
    "    def perimeter (self):\n",
    "        perimeter1 = math.pi * (self.radius ** 2)\n",
    "        return perimeter1\n",
    "\n",
    "    def isinside(self):\n",
    "        if (((self.point_x - self.center_x) ** 2) + ((self.point_y - self.center_y) ** 2)) == self.radius ** 2:\n",
    "            print('point is in circle')\n",
    "        else:\n",
    "            print('point is not in circle')\n",
    "my_circle = circle(3,1,1,0,0)\n",
    "print('{},{}'.format(my_circle.area(), my_circle.perimeter()))\n",
    "my_circle.isinside()\n",
    "\n",
    "\n",
    "\n",
    "\n",
    "\n",
    "\n"
   ]
  },
  {
   "cell_type": "code",
   "execution_count": null,
   "id": "189077f5",
   "metadata": {},
   "outputs": [],
   "source": []
  }
 ],
 "metadata": {
  "kernelspec": {
   "display_name": "Python 3",
   "language": "python",
   "name": "python3"
  },
  "language_info": {
   "codemirror_mode": {
    "name": "ipython",
    "version": 3
   },
   "file_extension": ".py",
   "mimetype": "text/x-python",
   "name": "python",
   "nbconvert_exporter": "python",
   "pygments_lexer": "ipython3",
   "version": "3.8.8"
  }
 },
 "nbformat": 4,
 "nbformat_minor": 5
}
