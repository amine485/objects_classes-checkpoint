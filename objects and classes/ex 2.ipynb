{
 "cells": [
  {
   "cell_type": "code",
   "execution_count": 4,
   "id": "fd289d18",
   "metadata": {},
   "outputs": [
    {
     "name": "stdout",
     "output_type": "stream",
     "text": [
      "8,12\n"
     ]
    }
   ],
   "source": [
    "class Rectangle:\n",
    "    def __init__(self, length,width):\n",
    "        self.length = length\n",
    "        self.width = width\n",
    "    def area(self):\n",
    "        area1 = (self.length * self.width)\n",
    "        return area1\n",
    "    def perimeter (self):\n",
    "        perimeter1 = (self.length + self.width) * 2\n",
    "        return perimeter1\n",
    "my_rectangle = Rectangle(4,2)\n",
    "print('{},{}'.format(my_rectangle.area(), my_rectangle.perimeter()))\n"
   ]
  },
  {
   "cell_type": "code",
   "execution_count": null,
   "id": "9fbdef0f",
   "metadata": {},
   "outputs": [],
   "source": []
  }
 ],
 "metadata": {
  "kernelspec": {
   "display_name": "Python 3",
   "language": "python",
   "name": "python3"
  },
  "language_info": {
   "codemirror_mode": {
    "name": "ipython",
    "version": 3
   },
   "file_extension": ".py",
   "mimetype": "text/x-python",
   "name": "python",
   "nbconvert_exporter": "python",
   "pygments_lexer": "ipython3",
   "version": "3.8.8"
  }
 },
 "nbformat": 4,
 "nbformat_minor": 5
}
