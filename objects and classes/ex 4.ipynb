{
 "cells": [
  {
   "cell_type": "code",
   "execution_count": 2,
   "id": "03ad8021",
   "metadata": {},
   "outputs": [
    {
     "name": "stdout",
     "output_type": "stream",
     "text": [
      "your balance now is 700\n",
      "your balance now is 400\n"
     ]
    }
   ],
   "source": [
    "class bank :\n",
    "    def __init__(self,balance):\n",
    "        self.balance = balance\n",
    "    def deposit (self,added_amount) :\n",
    "        self.balance += added_amount\n",
    "        print('your balance now is' ,self.balance)\n",
    "    def withdraw (self,withdrawn_amount) :\n",
    "        self.balance -= withdrawn_amount\n",
    "        print('your balance now is' ,self.balance)\n",
    "balance = bank(500)\n",
    "balance.deposit(200)\n",
    "balance.withdraw(300)"
   ]
  },
  {
   "cell_type": "code",
   "execution_count": null,
   "id": "42b1a886",
   "metadata": {},
   "outputs": [],
   "source": []
  }
 ],
 "metadata": {
  "kernelspec": {
   "display_name": "Python 3",
   "language": "python",
   "name": "python3"
  },
  "language_info": {
   "codemirror_mode": {
    "name": "ipython",
    "version": 3
   },
   "file_extension": ".py",
   "mimetype": "text/x-python",
   "name": "python",
   "nbconvert_exporter": "python",
   "pygments_lexer": "ipython3",
   "version": "3.8.8"
  }
 },
 "nbformat": 4,
 "nbformat_minor": 5
}
